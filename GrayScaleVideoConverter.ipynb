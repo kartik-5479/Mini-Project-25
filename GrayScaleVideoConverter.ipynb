{
  "nbformat": 4,
  "nbformat_minor": 0,
  "metadata": {
    "colab": {
      "provenance": [],
      "authorship_tag": "ABX9TyMQpMxSzPKoO3WYXahmmfX6",
      "include_colab_link": true
    },
    "kernelspec": {
      "name": "python3",
      "display_name": "Python 3"
    },
    "language_info": {
      "name": "python"
    }
  },
  "cells": [
    {
      "cell_type": "markdown",
      "metadata": {
        "id": "view-in-github",
        "colab_type": "text"
      },
      "source": [
        "<a href=\"https://colab.research.google.com/github/kartik-5479/Mini-Project-25/blob/main/GrayScaleVideoConverter.ipynb\" target=\"_parent\"><img src=\"https://colab.research.google.com/assets/colab-badge.svg\" alt=\"Open In Colab\"/></a>"
      ]
    },
    {
      "cell_type": "code",
      "metadata": {
        "colab": {
          "base_uri": "https://localhost:8080/"
        },
        "id": "dd4d6cb6",
        "outputId": "3522873c-656e-440a-8f52-19d30ea82cec"
      },
      "source": [
        "%pip install opencv-python"
      ],
      "execution_count": 1,
      "outputs": [
        {
          "output_type": "stream",
          "name": "stdout",
          "text": [
            "Requirement already satisfied: opencv-python in /usr/local/lib/python3.11/dist-packages (4.11.0.86)\n",
            "Requirement already satisfied: numpy>=1.21.2 in /usr/local/lib/python3.11/dist-packages (from opencv-python) (2.0.2)\n"
          ]
        }
      ]
    },
    {
      "cell_type": "markdown",
      "metadata": {
        "id": "8250694e"
      },
      "source": [
        "## Download a video\n",
        "\n",
        "### Subtask:\n",
        "Download a sample video file from the internet.\n"
      ]
    },
    {
      "cell_type": "code",
      "metadata": {
        "colab": {
          "base_uri": "https://localhost:8080/"
        },
        "id": "c9ad166c",
        "outputId": "1f5e3d3d-4a9a-487e-8387-b80c27820cb4"
      },
      "source": [
        "video_url = \"https://test-videos.co.uk/vids/bigbuckbunny/mp4/720/Big_Buck_Bunny_720p_1mb.mp4\"\n",
        "local_video_path = \"sample_video.mp4\"\n",
        "\n",
        "try:\n",
        "    response = requests.get(video_url, stream=True)\n",
        "    response.raise_for_status()  # Raise an exception for bad status codes\n",
        "\n",
        "    with open(local_video_path, 'wb') as f:\n",
        "        for chunk in response.iter_content(chunk_size=8192):\n",
        "            f.write(chunk)\n",
        "\n",
        "    print(f\"Video downloaded successfully to {local_video_path}\")\n",
        "\n",
        "except requests.exceptions.RequestException as e:\n",
        "    print(f\"Error downloading video: {e}\")\n",
        "    download_successful = False\n",
        "else:\n",
        "    download_successful = True"
      ],
      "execution_count": 3,
      "outputs": [
        {
          "output_type": "stream",
          "name": "stdout",
          "text": [
            "Error downloading video: 404 Client Error: Not Found for url: https://test-videos.co.uk/vids/bigbuckbunny/mp4/720/Big_Buck_Bunny_720p_1mb.mp4\n"
          ]
        }
      ]
    },
    {
      "cell_type": "markdown",
      "metadata": {
        "id": "6f19f82a"
      },
      "source": [
        "**Reasoning**:\n",
        "The previous download attempts failed due to 404 errors. Try yet another publicly available video URL to download the sample video file and save it locally.\n",
        "\n"
      ]
    },
    {
      "cell_type": "code",
      "metadata": {
        "colab": {
          "base_uri": "https://localhost:8080/"
        },
        "id": "7b785853",
        "outputId": "2dcb92e8-6cb1-4c58-f052-ddd27e39aa7c"
      },
      "source": [
        "video_url = \"https://sample-videos.com/video123/mp4/720/big_buck_bunny_720p_1mb.mp4\"\n",
        "local_video_path = \"sample_video.mp4\"\n",
        "\n",
        "try:\n",
        "    response = requests.get(video_url, stream=True)\n",
        "    response.raise_for_status()  # Raise an exception for bad status codes\n",
        "\n",
        "    with open(local_video_path, 'wb') as f:\n",
        "        for chunk in response.iter_content(chunk_size=8192):\n",
        "            f.write(chunk)\n",
        "\n",
        "    print(f\"Video downloaded successfully to {local_video_path}\")\n",
        "\n",
        "except requests.exceptions.RequestException as e:\n",
        "    print(f\"Error downloading video: {e}\")\n",
        "    download_successful = False\n",
        "else:\n",
        "    download_successful = True"
      ],
      "execution_count": 4,
      "outputs": [
        {
          "output_type": "stream",
          "name": "stdout",
          "text": [
            "Error downloading video: 404 Client Error: Not Found for url: https://sample-videos.com/video123/mp4/720/big_buck_bunny_720p_1mb.mp4\n"
          ]
        }
      ]
    },
    {
      "cell_type": "markdown",
      "metadata": {
        "id": "6dfa46f4"
      },
      "source": [
        "## Download a video\n",
        "\n",
        "### Subtask:\n",
        "Download a sample video file from the internet.\n"
      ]
    },
    {
      "cell_type": "markdown",
      "metadata": {
        "id": "322e4c8e"
      },
      "source": [
        "**Reasoning**:\n",
        "Attempt to download a sample video from a known working URL using requests and handle potential errors.\n",
        "\n"
      ]
    },
    {
      "cell_type": "code",
      "metadata": {
        "colab": {
          "base_uri": "https://localhost:8080/"
        },
        "id": "82cb34e1",
        "outputId": "515e9097-dfb4-4d64-8ef8-cc29e3132502"
      },
      "source": [
        "import requests\n",
        "\n",
        "video_url = \"https://commondatastorage.googleapis.com/gtv-videos-bucket/sample/BigBuckBunny.mp4\"\n",
        "local_video_path = \"sample_video.mp4\"\n",
        "\n",
        "try:\n",
        "    response = requests.get(video_url, stream=True)\n",
        "    response.raise_for_status()\n",
        "\n",
        "    with open(local_video_path, 'wb') as f:\n",
        "        for chunk in response.iter_content(chunk_size=8192):\n",
        "            f.write(chunk)\n",
        "\n",
        "    print(f\"Video downloaded successfully to {local_video_path}\")\n",
        "    download_successful = True\n",
        "\n",
        "except requests.exceptions.RequestException as e:\n",
        "    print(f\"Error downloading video: {e}\")\n",
        "    download_successful = False"
      ],
      "execution_count": 5,
      "outputs": [
        {
          "output_type": "stream",
          "name": "stdout",
          "text": [
            "Video downloaded successfully to sample_video.mp4\n"
          ]
        }
      ]
    },
    {
      "cell_type": "code",
      "metadata": {
        "colab": {
          "base_uri": "https://localhost:8080/"
        },
        "id": "49da787b",
        "outputId": "e5b97fa5-15e1-4cd3-9940-ba06c93b789c"
      },
      "source": [
        "import cv2\n",
        "\n",
        "if not download_successful:\n",
        "    print(\"Video was not downloaded successfully. Skipping grayscale conversion.\")\n",
        "else:\n",
        "    local_video_path = \"sample_video.mp4\"\n",
        "    grayscale_video_path = \"grayscale_video.mp4\"\n",
        "\n",
        "    cap = cv2.VideoCapture(local_video_path)\n",
        "\n",
        "    if not cap.isOpened():\n",
        "        print(f\"Error: Could not open video file {local_video_path}\")\n",
        "    else:\n",
        "        fps = int(cap.get(cv2.CAP_PROP_FPS))\n",
        "        width = int(cap.get(cv2.CAP_PROP_FRAME_WIDTH))\n",
        "        height = int(cap.get(cv2.CAP_PROP_FRAME_HEIGHT))\n",
        "\n",
        "        fourcc = cv2.VideoWriter_fourcc(*'mp4v')\n",
        "        out = cv2.VideoWriter(grayscale_video_path, fourcc, fps, (width, height), isColor=False)\n",
        "\n",
        "        while cap.isOpened():\n",
        "            ret, frame = cap.read()\n",
        "            if ret:\n",
        "                gray_frame = cv2.cvtColor(frame, cv2.COLOR_BGR2GRAY)\n",
        "                out.write(gray_frame)\n",
        "            else:\n",
        "                break\n",
        "\n",
        "        cap.release()\n",
        "        out.release()\n",
        "        print(f\"Grayscale video saved successfully to {grayscale_video_path}\")"
      ],
      "execution_count": 6,
      "outputs": [
        {
          "output_type": "stream",
          "name": "stdout",
          "text": [
            "Grayscale video saved successfully to grayscale_video.mp4\n"
          ]
        }
      ]
    }
  ]
}